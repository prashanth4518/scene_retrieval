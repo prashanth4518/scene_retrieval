{
  "nbformat": 4,
  "nbformat_minor": 0,
  "metadata": {
    "colab": {
      "name": "Anomaly detection using obj detection.ipynb",
      "provenance": [],
      "collapsed_sections": []
    },
    "kernelspec": {
      "name": "python3",
      "display_name": "Python 3"
    },
    "accelerator": "GPU"
  },
  "cells": [
    {
      "cell_type": "code",
      "metadata": {
        "id": "Z4yNOdZGc-yv",
        "colab": {
          "base_uri": "https://localhost:8080/"
        },
        "outputId": "b251a908-ae9e-4e6b-c9ba-df3b807027d4"
      },
      "source": [
        "!pip install cvlib"
      ],
      "execution_count": 2,
      "outputs": [
        {
          "output_type": "stream",
          "text": [
            "Collecting cvlib\n",
            "\u001b[?25l  Downloading https://files.pythonhosted.org/packages/96/56/f57aa012b3fb8b22f46cc9016a7198d7571b82d21c8a257dfca8d387c99b/cvlib-0.2.5.tar.gz (10.0MB)\n",
            "\u001b[K     |████████████████████████████████| 10.1MB 21.6MB/s \n",
            "\u001b[?25hRequirement already satisfied: numpy in /usr/local/lib/python3.6/dist-packages (from cvlib) (1.18.5)\n",
            "Collecting progressbar\n",
            "  Downloading https://files.pythonhosted.org/packages/a3/a6/b8e451f6cff1c99b4747a2f7235aa904d2d49e8e1464e0b798272aa84358/progressbar-2.5.tar.gz\n",
            "Requirement already satisfied: requests in /usr/local/lib/python3.6/dist-packages (from cvlib) (2.23.0)\n",
            "Requirement already satisfied: pillow in /usr/local/lib/python3.6/dist-packages (from cvlib) (7.0.0)\n",
            "Requirement already satisfied: imageio in /usr/local/lib/python3.6/dist-packages (from cvlib) (2.4.1)\n",
            "Requirement already satisfied: imutils in /usr/local/lib/python3.6/dist-packages (from cvlib) (0.5.3)\n",
            "Requirement already satisfied: certifi>=2017.4.17 in /usr/local/lib/python3.6/dist-packages (from requests->cvlib) (2020.6.20)\n",
            "Requirement already satisfied: chardet<4,>=3.0.2 in /usr/local/lib/python3.6/dist-packages (from requests->cvlib) (3.0.4)\n",
            "Requirement already satisfied: idna<3,>=2.5 in /usr/local/lib/python3.6/dist-packages (from requests->cvlib) (2.10)\n",
            "Requirement already satisfied: urllib3!=1.25.0,!=1.25.1,<1.26,>=1.21.1 in /usr/local/lib/python3.6/dist-packages (from requests->cvlib) (1.24.3)\n",
            "Building wheels for collected packages: cvlib, progressbar\n",
            "  Building wheel for cvlib (setup.py) ... \u001b[?25l\u001b[?25hdone\n",
            "  Created wheel for cvlib: filename=cvlib-0.2.5-cp36-none-any.whl size=10044206 sha256=b7e55480c857057fe0d779571009f639743f6d32e6723045ce1feaeda647d353\n",
            "  Stored in directory: /root/.cache/pip/wheels/6a/cb/43/ba188c823836640d8f22ee1f6ff792a0c83a8b66eabf52b219\n",
            "  Building wheel for progressbar (setup.py) ... \u001b[?25l\u001b[?25hdone\n",
            "  Created wheel for progressbar: filename=progressbar-2.5-cp36-none-any.whl size=12076 sha256=8100eddc2408dbddf7a353bc2bae5b1513aaa7fe1cc3de669268cda20a07befe\n",
            "  Stored in directory: /root/.cache/pip/wheels/c0/e9/6b/ea01090205e285175842339aa3b491adeb4015206cda272ff0\n",
            "Successfully built cvlib progressbar\n",
            "Installing collected packages: progressbar, cvlib\n",
            "Successfully installed cvlib-0.2.5 progressbar-2.5\n"
          ],
          "name": "stdout"
        }
      ]
    },
    {
      "cell_type": "code",
      "metadata": {
        "id": "ixJ0X0jEawPg"
      },
      "source": [
        "import pickle\n",
        "import cv2\n",
        "#import matplotlib.pyplot as plt\n",
        "import cvlib as cv\n",
        "#from cvlib.object_detection import draw_bbox\n",
        "import glob\n",
        "import numpy as np\n",
        "from sklearn.feature_extraction.text import CountVectorizer\n",
        "from sklearn.mixture import GaussianMixture\n",
        "from sklearn.cluster import KMeans\n",
        "import  matplotlib.pyplot as  plt\n",
        "\n"
      ],
      "execution_count": 3,
      "outputs": []
    },
    {
      "cell_type": "code",
      "metadata": {
        "id": "TCL12zPagI5K",
        "colab": {
          "base_uri": "https://localhost:8080/"
        },
        "outputId": "f7f7f664-425f-4e7f-c877-87234eb025db"
      },
      "source": [
        "from google.colab import drive\n",
        "drive.mount('/content/drive')"
      ],
      "execution_count": 4,
      "outputs": [
        {
          "output_type": "stream",
          "text": [
            "Mounted at /content/drive\n"
          ],
          "name": "stdout"
        }
      ]
    },
    {
      "cell_type": "code",
      "metadata": {
        "colab": {
          "base_uri": "https://localhost:8080/"
        },
        "id": "fjMDcHJDt521",
        "outputId": "a446cca9-ea86-44c7-c760-0ae551bbb0db"
      },
      "source": [
        "ls '/content/drive/MyDrive/MTP /'"
      ],
      "execution_count": 7,
      "outputs": [
        {
          "output_type": "stream",
          "text": [
            " \u001b[0m\u001b[01;34m11-4-20\u001b[0m/   \u001b[01;34mdatasets\u001b[0m/   \u001b[01;34mmtp\u001b[0m/  \u001b[01;34m'UCSD '\u001b[0m/\n"
          ],
          "name": "stdout"
        }
      ]
    },
    {
      "cell_type": "code",
      "metadata": {
        "id": "FzKTNbBHa1EE"
      },
      "source": [
        "labels = [line.rstrip('\\n') for line in open('/content/drive/MyDrive/MTP /UCSD /labels.txt', 'r')]\n",
        "vectorizer = CountVectorizer()\n",
        "x1= vectorizer.fit(labels)\n",
        "x2=vectorizer.transform(labels).toarray()\n",
        "def getVector(labels):\n",
        "    t=vectorizer.transform(set(labels)).toarray().sum(axis=0)\n",
        "    return t\n"
      ],
      "execution_count": 6,
      "outputs": []
    },
    {
      "cell_type": "code",
      "metadata": {
        "id": "KLYnDZhbgI1C"
      },
      "source": [
        ""
      ],
      "execution_count": 6,
      "outputs": []
    },
    {
      "cell_type": "code",
      "metadata": {
        "id": "hv1oZ-s0bFYF",
        "colab": {
          "base_uri": "https://localhost:8080/"
        },
        "outputId": "a8971bc9-48bf-48b4-f506-9fc56f112976"
      },
      "source": [
        "path= '/content/drive/MyDrive/MTP /UCSD /Train/Train001/'\n",
        "list_img= glob.glob(path+\"*.tif\")\n",
        "total = len(list_img)\n",
        "print(total)"
      ],
      "execution_count": 8,
      "outputs": [
        {
          "output_type": "stream",
          "text": [
            "200\n"
          ],
          "name": "stdout"
        }
      ]
    },
    {
      "cell_type": "code",
      "metadata": {
        "id": "uvzVYwNUbJGW",
        "colab": {
          "base_uri": "https://localhost:8080/"
        },
        "outputId": "4290291a-c29a-4d9b-846c-60b9b020f0e8"
      },
      "source": [
        "%%time\n",
        "frames=[]\n",
        "label_arr=[]\n",
        "value_arr=[]\n",
        "\n",
        "for i in range(total):\n",
        "    img=cv2.imread(list_img[i])\n",
        "    frames.append(img)\n",
        "    bbox, label, conf = cv.detect_common_objects(img)\n",
        "    t=getVector(label)\n",
        "#    plt.imshow(img)\n",
        "#    plt.show()\n",
        "    if i%10==0:\n",
        "        print(i)\n",
        "#         print(i,\" ---->  \",gmm.score([t]))\n",
        "#     value_arr.append(gmm.predict([t]))\n",
        "    label_arr.append(t)"
      ],
      "execution_count": 9,
      "outputs": [
        {
          "output_type": "stream",
          "text": [
            "Downloading yolov3.cfg from https://github.com/arunponnusamy/object-detection-opencv/raw/master/yolov3.cfg\n"
          ],
          "name": "stdout"
        },
        {
          "output_type": "stream",
          "text": [
            "  0% |                                                                        |\r"
          ],
          "name": "stderr"
        },
        {
          "output_type": "stream",
          "text": [
            "Downloading yolov3.weights from https://pjreddie.com/media/files/yolov3.weights\n"
          ],
          "name": "stdout"
        },
        {
          "output_type": "stream",
          "text": [
            ""
          ],
          "name": "stderr"
        },
        {
          "output_type": "stream",
          "text": [
            "Downloading yolov3_classes.txt from https://github.com/arunponnusamy/object-detection-opencv/raw/master/yolov3.txt\n",
            "0\n",
            "10\n",
            "20\n",
            "30\n",
            "40\n",
            "50\n",
            "60\n",
            "70\n",
            "80\n",
            "90\n",
            "100\n",
            "110\n",
            "120\n",
            "130\n",
            "140\n",
            "150\n",
            "160\n",
            "170\n",
            "180\n",
            "190\n",
            "CPU times: user 10min 40s, sys: 2.93 s, total: 10min 43s\n",
            "Wall time: 8min 15s\n"
          ],
          "name": "stdout"
        }
      ]
    },
    {
      "cell_type": "code",
      "metadata": {
        "id": "fa1Oz0nDnt7L"
      },
      "source": [
        ""
      ],
      "execution_count": 9,
      "outputs": []
    },
    {
      "cell_type": "code",
      "metadata": {
        "id": "TqWQNNVtoOPB"
      },
      "source": [
        ""
      ],
      "execution_count": 9,
      "outputs": []
    },
    {
      "cell_type": "code",
      "metadata": {
        "id": "ja5OMD_soOND"
      },
      "source": [
        "label_arr=np.array(label_arr)\n",
        "updated_arr=[]\n",
        "for k in range(0,label_arr.shape[0]-30+1):\n",
        "    x=np.average(label_arr[k:30+k,:],axis=0)\n",
        "    updated_arr.append(x)\n",
        "    "
      ],
      "execution_count": 10,
      "outputs": []
    },
    {
      "cell_type": "code",
      "metadata": {
        "id": "tTJrCIF6uczR",
        "colab": {
          "base_uri": "https://localhost:8080/"
        },
        "outputId": "59cf9a54-400e-4d63-9a09-b70e350c5b55"
      },
      "source": [
        "label_arr.shape"
      ],
      "execution_count": 11,
      "outputs": [
        {
          "output_type": "execute_result",
          "data": {
            "text/plain": [
              "(200, 92)"
            ]
          },
          "metadata": {
            "tags": []
          },
          "execution_count": 11
        }
      ]
    },
    {
      "cell_type": "code",
      "metadata": {
        "id": "liuF8vGkuKR1"
      },
      "source": [
        "updated_arr=np.array(updated_arr)"
      ],
      "execution_count": 12,
      "outputs": []
    },
    {
      "cell_type": "code",
      "metadata": {
        "id": "IW1m2g3tnkkx",
        "colab": {
          "base_uri": "https://localhost:8080/"
        },
        "outputId": "971c803d-78df-4d79-b395-be84217f593c"
      },
      "source": [
        "X_train = np.array(updated_arr)\n",
        "print(\"Model is Training.......\")\n",
        "gmm= GaussianMixture(20) \n",
        "gmm.fit(X_train)"
      ],
      "execution_count": 13,
      "outputs": [
        {
          "output_type": "stream",
          "text": [
            "Model is Training.......\n"
          ],
          "name": "stdout"
        },
        {
          "output_type": "stream",
          "text": [
            "/usr/local/lib/python3.6/dist-packages/sklearn/mixture/_base.py:147: ConvergenceWarning: Number of distinct clusters (10) found smaller than n_clusters (20). Possibly due to duplicate points in X.\n",
            "  random_state=random_state).fit(X).labels_\n"
          ],
          "name": "stderr"
        },
        {
          "output_type": "execute_result",
          "data": {
            "text/plain": [
              "GaussianMixture(covariance_type='full', init_params='kmeans', max_iter=100,\n",
              "                means_init=None, n_components=20, n_init=1,\n",
              "                precisions_init=None, random_state=None, reg_covar=1e-06,\n",
              "                tol=0.001, verbose=0, verbose_interval=10, warm_start=False,\n",
              "                weights_init=None)"
            ]
          },
          "metadata": {
            "tags": []
          },
          "execution_count": 13
        }
      ]
    },
    {
      "cell_type": "code",
      "metadata": {
        "id": "GrTeITeFoOLp"
      },
      "source": [
        ""
      ],
      "execution_count": 13,
      "outputs": []
    },
    {
      "cell_type": "code",
      "metadata": {
        "id": "wI8PMFILoOGW"
      },
      "source": [
        ""
      ],
      "execution_count": 13,
      "outputs": []
    },
    {
      "cell_type": "code",
      "metadata": {
        "id": "RpzAJkDXoOE2"
      },
      "source": [
        ""
      ],
      "execution_count": 13,
      "outputs": []
    },
    {
      "cell_type": "markdown",
      "metadata": {
        "id": "QNNbma1fwK2R"
      },
      "source": [
        "Test"
      ]
    },
    {
      "cell_type": "code",
      "metadata": {
        "colab": {
          "base_uri": "https://localhost:8080/"
        },
        "id": "-iL2lXzFoOA1",
        "outputId": "401538b4-b55d-43a4-e536-c221bc2e507c"
      },
      "source": [
        "path= '/content/drive/MyDrive/MTP /UCSD /Test/Test001/'\n",
        "list_img= glob.glob(path+\"*.tif\")\n",
        "total = len(list_img)\n",
        "print(total)"
      ],
      "execution_count": 14,
      "outputs": [
        {
          "output_type": "stream",
          "text": [
            "200\n"
          ],
          "name": "stdout"
        }
      ]
    },
    {
      "cell_type": "code",
      "metadata": {
        "id": "kCPi-NNCoN_c"
      },
      "source": [
        ""
      ],
      "execution_count": 14,
      "outputs": []
    },
    {
      "cell_type": "code",
      "metadata": {
        "id": "0coXufJOnkvF"
      },
      "source": [
        ""
      ],
      "execution_count": 14,
      "outputs": []
    },
    {
      "cell_type": "code",
      "metadata": {
        "id": "dEiDntwlnkyZ"
      },
      "source": [
        ""
      ],
      "execution_count": 14,
      "outputs": []
    },
    {
      "cell_type": "code",
      "metadata": {
        "colab": {
          "base_uri": "https://localhost:8080/"
        },
        "id": "-NL4cB1e0chQ",
        "outputId": "670e7774-b8ed-459a-afc5-a53997717de9"
      },
      "source": [
        "%%time\n",
        "frames=[]\n",
        "label_arr=[]\n",
        "value_arr=[]\n",
        "\n",
        "for i in range(total):\n",
        "    img=cv2.imread(list_img[i])\n",
        "    frames.append(img)\n",
        "    bbox, label, conf = cv.detect_common_objects(img)\n",
        "    t=getVector(label)\n",
        "#    plt.imshow(img)\n",
        "#    plt.show()\n",
        "    if i%10==0:\n",
        "        print(i)\n",
        "#         print(i,\" ---->  \",gmm.score([t]))\n",
        "#     value_arr.append(gmm.predict([t]))\n",
        "    label_arr.append(t)"
      ],
      "execution_count": 15,
      "outputs": [
        {
          "output_type": "stream",
          "text": [
            "0\n",
            "10\n",
            "20\n",
            "30\n",
            "40\n",
            "50\n",
            "60\n",
            "70\n",
            "80\n",
            "90\n",
            "100\n",
            "110\n",
            "120\n",
            "130\n",
            "140\n",
            "150\n",
            "160\n",
            "170\n",
            "180\n",
            "190\n",
            "CPU times: user 10min 43s, sys: 610 ms, total: 10min 44s\n",
            "Wall time: 6min 20s\n"
          ],
          "name": "stdout"
        }
      ]
    },
    {
      "cell_type": "code",
      "metadata": {
        "id": "76i2QBZUwnxi"
      },
      "source": [
        "label_arr=np.array(label_arr)\n",
        "updated_arr=[]\n",
        "for k in range(0,label_arr.shape[0]-30+1):\n",
        "    x=np.average(label_arr[k:30+k,:],axis=0)\n",
        "    updated_arr.append(gmm.score([x]))"
      ],
      "execution_count": 16,
      "outputs": []
    },
    {
      "cell_type": "code",
      "metadata": {
        "colab": {
          "base_uri": "https://localhost:8080/"
        },
        "id": "M6jVYLosyuSB",
        "outputId": "2ada877c-c1a4-4646-a279-75285e08525f"
      },
      "source": [
        "updated_arr=np.array(updated_arr)\n",
        "updated_arr.shape"
      ],
      "execution_count": 17,
      "outputs": [
        {
          "output_type": "execute_result",
          "data": {
            "text/plain": [
              "(171,)"
            ]
          },
          "metadata": {
            "tags": []
          },
          "execution_count": 17
        }
      ]
    },
    {
      "cell_type": "code",
      "metadata": {
        "colab": {
          "base_uri": "https://localhost:8080/",
          "height": 281
        },
        "id": "jwlUc3PS1Hb1",
        "outputId": "5166e02f-0e93-4039-c5e6-8189a976ed61"
      },
      "source": [
        "plt.plot(updated_arr)"
      ],
      "execution_count": 18,
      "outputs": [
        {
          "output_type": "execute_result",
          "data": {
            "text/plain": [
              "[<matplotlib.lines.Line2D at 0x7f3ae0568780>]"
            ]
          },
          "metadata": {
            "tags": []
          },
          "execution_count": 18
        },
        {
          "output_type": "display_data",
          "data": {
            "image/png": "[encoded data removed]",
            "text/plain": [
              "<Figure size 432x288 with 1 Axes>"
            ]
          },
          "metadata": {
            "tags": [],
            "needs_background": "light"
          }
        }
      ]
    },
    {
      "cell_type": "code",
      "metadata": {
        "id": "j2EPomuvwntB"
      },
      "source": [
        "y_test =[]\n",
        "for i in range(1,172):\n",
        "    if i in range(75,152):  # specify in the data set 1 for anomaly,0 for normal\n",
        "        y_test.append(1)\n",
        "    else:\n",
        "        y_test.append(0)"
      ],
      "execution_count": 27,
      "outputs": []
    },
    {
      "cell_type": "code",
      "metadata": {
        "id": "y7zx00ngwnp1"
      },
      "source": [
        "mu  = np.mean(updated_arr)\n",
        "sigma= np.var(updated_arr)\n",
        "z_score = updated_arr-mu / sigma"
      ],
      "execution_count": 28,
      "outputs": []
    },
    {
      "cell_type": "code",
      "metadata": {
        "id": "ezWN19j6wnl6"
      },
      "source": [
        "th = -30000   #threshold \n",
        "y_pred= (z_score <th)*1"
      ],
      "execution_count": 29,
      "outputs": []
    },
    {
      "cell_type": "code",
      "metadata": {
        "colab": {
          "base_uri": "https://localhost:8080/",
          "height": 312
        },
        "id": "4LIxXni-wnjw",
        "outputId": "4721c046-6dc5-484d-d406-c077b777eb47"
      },
      "source": [
        "from sklearn.metrics import roc_auc_score, roc_curve\n",
        "fpr, tpr, thresholds = roc_curve(y_test,y_pred)\n",
        "plt.plot(fpr, tpr)\n",
        "plt.title('ROC curve')\n",
        "plt.xlabel('False Positive Rate')\n",
        "plt.ylabel('True Positive Rate')\n",
        "print('Area under the Receiver Operating Characteristic curve:', \n",
        "      roc_auc_score(y_test, y_pred))\n",
        "    \n"
      ],
      "execution_count": 30,
      "outputs": [
        {
          "output_type": "stream",
          "text": [
            "Area under the Receiver Operating Characteristic curve: 0.7987012987012987\n"
          ],
          "name": "stdout"
        },
        {
          "output_type": "display_data",
          "data": {
            "image/png": "[encoded data removed]",
            "text/plain": [
              "<Figure size 432x288 with 1 Axes>"
            ]
          },
          "metadata": {
            "tags": [],
            "needs_background": "light"
          }
        }
      ]
    },
    {
      "cell_type": "code",
      "metadata": {
        "id": "dVB3Kiduwnij"
      },
      "source": [
        ""
      ],
      "execution_count": 30,
      "outputs": []
    },
    {
      "cell_type": "code",
      "metadata": {
        "id": "_kG78gfUwndB"
      },
      "source": [
        ""
      ],
      "execution_count": 26,
      "outputs": []
    },
    {
      "cell_type": "code",
      "metadata": {
        "id": "co6-8mfJwnbN"
      },
      "source": [
        ""
      ],
      "execution_count": null,
      "outputs": []
    },
    {
      "cell_type": "code",
      "metadata": {
        "id": "P99sZTCiwnYl"
      },
      "source": [
        ""
      ],
      "execution_count": null,
      "outputs": []
    },
    {
      "cell_type": "code",
      "metadata": {
        "id": "2xVrq9VAwnTt"
      },
      "source": [
        ""
      ],
      "execution_count": null,
      "outputs": []
    },
    {
      "cell_type": "code",
      "metadata": {
        "colab": {
          "base_uri": "https://localhost:8080/"
        },
        "id": "hYVyANojDi8O",
        "outputId": "b5e0c67b-2c8e-4e86-c3af-576a00a6e9ca"
      },
      "source": [
        "%%time\n",
        "img=cv2.imread(list_img[0])\n",
        "bbox, label, conf = cv.detect_common_objects(img,enable_gpu=True)"
      ],
      "execution_count": null,
      "outputs": [
        {
          "output_type": "stream",
          "text": [
            "CPU times: user 2.34 s, sys: 16 ms, total: 2.36 s\n",
            "Wall time: 1.3 s\n"
          ],
          "name": "stdout"
        }
      ]
    },
    {
      "cell_type": "code",
      "metadata": {
        "id": "l74esL5bcxAG",
        "colab": {
          "base_uri": "https://localhost:8080/",
          "height": 161
        },
        "outputId": "055808ae-bb24-4bc3-bf2b-41b9c50af4f2"
      },
      "source": [
        "X_test = np.array(label_arr)"
      ],
      "execution_count": null,
      "outputs": [
        {
          "output_type": "error",
          "ename": "NameError",
          "evalue": "ignored",
          "traceback": [
            "\u001b[0;31m---------------------------------------------------------------------------\u001b[0m",
            "\u001b[0;31mNameError\u001b[0m                                 Traceback (most recent call last)",
            "\u001b[0;32m<ipython-input-1-080ec44b2c50>\u001b[0m in \u001b[0;36m<module>\u001b[0;34m()\u001b[0m\n\u001b[0;32m----> 1\u001b[0;31m \u001b[0mX_test\u001b[0m \u001b[0;34m=\u001b[0m \u001b[0mnp\u001b[0m\u001b[0;34m.\u001b[0m\u001b[0marray\u001b[0m\u001b[0;34m(\u001b[0m\u001b[0mlabel_arr\u001b[0m\u001b[0;34m)\u001b[0m\u001b[0;34m\u001b[0m\u001b[0;34m\u001b[0m\u001b[0m\n\u001b[0m",
            "\u001b[0;31mNameError\u001b[0m: name 'np' is not defined"
          ]
        }
      ]
    },
    {
      "cell_type": "markdown",
      "metadata": {
        "id": "B8T87lPvdZe3"
      },
      "source": [
        "Test"
      ]
    },
    {
      "cell_type": "code",
      "metadata": {
        "id": "eu850N0LdQLb",
        "colab": {
          "base_uri": "https://localhost:8080/"
        },
        "outputId": "3b0e89fa-8c0a-48a9-c578-e0afc40a41cd"
      },
      "source": [
        "path= '/content/drive/MyDrive/MTP /UCSD /Test/Test001/'\n",
        "list_img= glob.glob(path+\"*.tif\")\n",
        "total = len(list_img)\n",
        "print(total)"
      ],
      "execution_count": null,
      "outputs": [
        {
          "output_type": "stream",
          "text": [
            "200\n"
          ],
          "name": "stdout"
        }
      ]
    },
    {
      "cell_type": "code",
      "metadata": {
        "id": "UV-TO-VQdguo",
        "colab": {
          "base_uri": "https://localhost:8080/"
        },
        "outputId": "103e7334-0446-46db-d1bb-f1ff033341f7"
      },
      "source": [
        "#frames=[]\n",
        "label_arr=[]\n",
        "value_arr=[]\n",
        "\n",
        "for i in range(total):\n",
        "    img=cv2.imread(list_img[i])\n",
        "    frames.append(img)\n",
        "    bbox, label, conf = cv.detect_common_objects(img)\n",
        "    t=getVector(label)\n",
        "#    plt.imshow(img)\n",
        "#    plt.show()\n",
        "    if i%10==0:\n",
        "        print(i)\n",
        "#         print(i,\" ---->  \",gmm.score([t]))\n",
        "   # value_arr.append(gmm.predict([t]))\n",
        "    label_arr.append(t)"
      ],
      "execution_count": null,
      "outputs": [
        {
          "output_type": "stream",
          "text": [
            "0\n",
            "10\n",
            "20\n",
            "30\n",
            "40\n",
            "50\n",
            "60\n",
            "70\n",
            "80\n",
            "90\n",
            "100\n",
            "110\n",
            "120\n"
          ],
          "name": "stdout"
        }
      ]
    },
    {
      "cell_type": "code",
      "metadata": {
        "id": "dH5Pd-yYfa_z"
      },
      "source": [
        ""
      ],
      "execution_count": null,
      "outputs": []
    }
  ]
}